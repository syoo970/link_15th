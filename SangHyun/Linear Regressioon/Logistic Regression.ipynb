{
 "cells": [
  {
   "cell_type": "code",
   "execution_count": 1,
   "metadata": {},
   "outputs": [
    {
     "name": "stderr",
     "output_type": "stream",
     "text": [
      "C:\\Users\\Family\\anaconda3\\lib\\site-packages\\tensorflow\\python\\framework\\dtypes.py:516: FutureWarning: Passing (type, 1) or '1type' as a synonym of type is deprecated; in a future version of numpy, it will be understood as (type, (1,)) / '(1,)type'.\n",
      "  _np_qint8 = np.dtype([(\"qint8\", np.int8, 1)])\n",
      "C:\\Users\\Family\\anaconda3\\lib\\site-packages\\tensorflow\\python\\framework\\dtypes.py:517: FutureWarning: Passing (type, 1) or '1type' as a synonym of type is deprecated; in a future version of numpy, it will be understood as (type, (1,)) / '(1,)type'.\n",
      "  _np_quint8 = np.dtype([(\"quint8\", np.uint8, 1)])\n",
      "C:\\Users\\Family\\anaconda3\\lib\\site-packages\\tensorflow\\python\\framework\\dtypes.py:518: FutureWarning: Passing (type, 1) or '1type' as a synonym of type is deprecated; in a future version of numpy, it will be understood as (type, (1,)) / '(1,)type'.\n",
      "  _np_qint16 = np.dtype([(\"qint16\", np.int16, 1)])\n",
      "C:\\Users\\Family\\anaconda3\\lib\\site-packages\\tensorflow\\python\\framework\\dtypes.py:519: FutureWarning: Passing (type, 1) or '1type' as a synonym of type is deprecated; in a future version of numpy, it will be understood as (type, (1,)) / '(1,)type'.\n",
      "  _np_quint16 = np.dtype([(\"quint16\", np.uint16, 1)])\n",
      "C:\\Users\\Family\\anaconda3\\lib\\site-packages\\tensorflow\\python\\framework\\dtypes.py:520: FutureWarning: Passing (type, 1) or '1type' as a synonym of type is deprecated; in a future version of numpy, it will be understood as (type, (1,)) / '(1,)type'.\n",
      "  _np_qint32 = np.dtype([(\"qint32\", np.int32, 1)])\n",
      "C:\\Users\\Family\\anaconda3\\lib\\site-packages\\tensorflow\\python\\framework\\dtypes.py:525: FutureWarning: Passing (type, 1) or '1type' as a synonym of type is deprecated; in a future version of numpy, it will be understood as (type, (1,)) / '(1,)type'.\n",
      "  np_resource = np.dtype([(\"resource\", np.ubyte, 1)])\n",
      "C:\\Users\\Family\\anaconda3\\lib\\site-packages\\tensorboard\\compat\\tensorflow_stub\\dtypes.py:541: FutureWarning: Passing (type, 1) or '1type' as a synonym of type is deprecated; in a future version of numpy, it will be understood as (type, (1,)) / '(1,)type'.\n",
      "  _np_qint8 = np.dtype([(\"qint8\", np.int8, 1)])\n",
      "C:\\Users\\Family\\anaconda3\\lib\\site-packages\\tensorboard\\compat\\tensorflow_stub\\dtypes.py:542: FutureWarning: Passing (type, 1) or '1type' as a synonym of type is deprecated; in a future version of numpy, it will be understood as (type, (1,)) / '(1,)type'.\n",
      "  _np_quint8 = np.dtype([(\"quint8\", np.uint8, 1)])\n",
      "C:\\Users\\Family\\anaconda3\\lib\\site-packages\\tensorboard\\compat\\tensorflow_stub\\dtypes.py:543: FutureWarning: Passing (type, 1) or '1type' as a synonym of type is deprecated; in a future version of numpy, it will be understood as (type, (1,)) / '(1,)type'.\n",
      "  _np_qint16 = np.dtype([(\"qint16\", np.int16, 1)])\n",
      "C:\\Users\\Family\\anaconda3\\lib\\site-packages\\tensorboard\\compat\\tensorflow_stub\\dtypes.py:544: FutureWarning: Passing (type, 1) or '1type' as a synonym of type is deprecated; in a future version of numpy, it will be understood as (type, (1,)) / '(1,)type'.\n",
      "  _np_quint16 = np.dtype([(\"quint16\", np.uint16, 1)])\n",
      "C:\\Users\\Family\\anaconda3\\lib\\site-packages\\tensorboard\\compat\\tensorflow_stub\\dtypes.py:545: FutureWarning: Passing (type, 1) or '1type' as a synonym of type is deprecated; in a future version of numpy, it will be understood as (type, (1,)) / '(1,)type'.\n",
      "  _np_qint32 = np.dtype([(\"qint32\", np.int32, 1)])\n",
      "C:\\Users\\Family\\anaconda3\\lib\\site-packages\\tensorboard\\compat\\tensorflow_stub\\dtypes.py:550: FutureWarning: Passing (type, 1) or '1type' as a synonym of type is deprecated; in a future version of numpy, it will be understood as (type, (1,)) / '(1,)type'.\n",
      "  np_resource = np.dtype([(\"resource\", np.ubyte, 1)])\n"
     ]
    }
   ],
   "source": [
    "import tensorflow as tf\n",
    "import numpy as np"
   ]
  },
  {
   "cell_type": "code",
   "execution_count": 2,
   "metadata": {},
   "outputs": [],
   "source": [
    "# 학습에 필요한 실제 값\n",
    "train_X = np.array([[2, 3], [4, 3], [4, 2], [2, 5], [6, 3], [5, 4] ])\n",
    "train_Y = np.array([[0], [0], [0], [1], [1], [1]])"
   ]
  },
  {
   "cell_type": "code",
   "execution_count": 3,
   "metadata": {},
   "outputs": [],
   "source": [
    "# 텐서 플로우에 데이터를 전달할 변수 정의\n",
    "# 들어오는 데이터의 갯수는 미정, 2차원\n",
    "X = tf.placeholder(tf.float32, shape=[None, 2])\n",
    "# 들어오는 데이터의 갯수는 미정, 1차원\n",
    "Y = tf.placeholder(tf.float32, shape=[None, 1])"
   ]
  },
  {
   "cell_type": "code",
   "execution_count": 4,
   "metadata": {},
   "outputs": [],
   "source": [
    "# Y = Wx + b\n",
    "# 학습을 통해 구해낼 가중치와 편향\n",
    "# 초기값 지정\n",
    "W = tf.Variable(tf.random_normal([2, 1]), name='weight') \n",
    "b = tf.Variable(tf.random_normal([1]), name='bias')  "
   ]
  },
  {
   "cell_type": "code",
   "execution_count": 5,
   "metadata": {},
   "outputs": [],
   "source": [
    "# 선형회귀 함수 결과(W * x + b)에 sigmoid()함수를 씌워줌.\n",
    "# 0~1 사이의 값을 출력\n",
    "pred = tf.sigmoid(tf.matmul(X ,W) + b)"
   ]
  },
  {
   "cell_type": "code",
   "execution_count": 6,
   "metadata": {},
   "outputs": [],
   "source": [
    "# cost 계산\n",
    "cost = -tf.reduce_mean(Y * tf.log(pred) + (1 - Y) * tf.log(1 - pred) )\n",
    "# 최적화 방법은 경사 하강법\n",
    "optimizer = tf.train.GradientDescentOptimizer(0.01)\n",
    "# cost 를 최소화\n",
    "op_train = optimizer.minimize(cost)"
   ]
  },
  {
   "cell_type": "code",
   "execution_count": 7,
   "metadata": {},
   "outputs": [],
   "source": [
    "# 0~1 사이의 값을 0, 1로 바꿔줌 (0.5보다 클 경우 1로 아니면 0)\n",
    "predicted = tf.cast(pred > 0.5, dtype=tf.float32)\n",
    "# 예측값과 실제값의 일치여부. 평균을 이용.\n",
    "accuracy = tf.reduce_mean(tf.cast(tf.equal(predicted, Y), dtype=tf.float32))"
   ]
  },
  {
   "cell_type": "code",
   "execution_count": 8,
   "metadata": {},
   "outputs": [],
   "source": [
    "# 텐서플로우 초기화\n",
    "sess = tf.Session()\n",
    "init = tf.global_variables_initializer()\n",
    "sess.run(init)"
   ]
  },
  {
   "cell_type": "code",
   "execution_count": 9,
   "metadata": {},
   "outputs": [
    {
     "name": "stdout",
     "output_type": "stream",
     "text": [
      "\n",
      "Run_count : [1000], Train_cost =[0.584146], W =[0.022002 0.390182], b =[-1.087266],                \n",
      "pred =[0.531815 0.542732 0.445547 0.712484 0.553608 0.641832],                \n",
      "pred_Y = [1 1 0 1 1 1 ],                \n",
      "true_Y=  [0 0 0 1 1 1 ],                \n",
      "accuracy = [66.666669%] \n",
      "\n",
      "Run_count : [2000], Train_cost =[0.534679], W =[0.082210 0.522558], b =[-1.775107],                \n",
      "pred =[0.489291 0.530326 0.401076 0.731458 0.570955 0.673935],                \n",
      "pred_Y = [0 1 0 1 1 1 ],                \n",
      "true_Y=  [0 0 0 1 1 1 ],                \n",
      "accuracy = [83.333331%] \n",
      "\n",
      "Run_count : [3000], Train_cost =[0.492373], W =[0.142412 0.639799], b =[-2.411848],                \n",
      "pred =[0.448318 0.519300 0.362982 0.744958 0.589512 0.702510],                \n",
      "pred_Y = [0 1 0 1 1 1 ],                \n",
      "true_Y=  [0 0 0 1 1 1 ],                \n",
      "accuracy = [83.333331%] \n",
      "\n",
      "Run_count : [4000], Train_cost =[0.456025], W =[0.197959 0.748928], b =[-3.001993],                \n",
      "pred =[0.411166 0.509165 0.329122 0.757404 0.606465 0.727781],                \n",
      "pred_Y = [0 1 0 1 1 1 ],                \n",
      "true_Y=  [0 0 0 1 1 1 ],                \n",
      "accuracy = [83.333331%] \n",
      "\n",
      "Run_count : [5000], Train_cost =[0.424636], W =[0.249287 0.850763], b =[-3.550366],                \n",
      "pred =[0.377689 0.499777 0.299106 0.768874 0.621891 0.750074],                \n",
      "pred_Y = [0 0 0 1 1 1 ],                \n",
      "true_Y=  [0 0 0 1 1 1 ],                \n",
      "accuracy = [100.000000%] \n"
     ]
    }
   ],
   "source": [
    "# 반복학습 수행\n",
    "for epoch in range(5000):\n",
    "    # r_cost, r_W, r_b, r_pred, r_c, r_a, _: 결과를 저장할 변수\n",
    "    # [cost, W, b, pred, predicted, accuracy, op_train] : 학습에 사용될 함수들 전달\n",
    "    # feed_dict = {X: train_X, Y: train_Y} : 학습에 사용될 데이터 전달\n",
    "    r_cost, r_W, r_b, r_pred, r_c, r_a, _ = sess.run([cost, W, b, pred, predicted, accuracy, op_train], \n",
    "                                                     feed_dict = {X: train_X, Y: train_Y})\n",
    "    \n",
    "    if (epoch+1) % 1000 == 0:\n",
    "        print(\"\\nRun_count : [%d], Train_cost =[%f], W =[%f %f], b =[%f], \\\n",
    "               \\npred =[%f %f %f %f %f %f], \\\n",
    "               \\npred_Y = [%d %d %d %d %d %d ], \\\n",
    "               \\ntrue_Y=  [%d %d %d %d %d %d ], \\\n",
    "               \\naccuracy = [%f%%] \" \n",
    "              % (epoch+1, r_cost, r_W[0], r_W[1], r_b, \n",
    "                 r_pred[0], r_pred[1], r_pred[2], r_pred[3], r_pred[4], r_pred[5],\n",
    "                 r_c[0], r_c[1], r_c[2], r_c[3], r_c[4], r_c[5],\n",
    "                 train_Y[0], train_Y[1], train_Y[2], train_Y[3], train_Y[4], train_Y[5],\n",
    "                 r_a*100))"
   ]
  },
  {
   "cell_type": "code",
   "execution_count": null,
   "metadata": {},
   "outputs": [],
   "source": []
  }
 ],
 "metadata": {
  "kernelspec": {
   "display_name": "Python 3",
   "language": "python",
   "name": "python3"
  },
  "language_info": {
   "codemirror_mode": {
    "name": "ipython",
    "version": 3
   },
   "file_extension": ".py",
   "mimetype": "text/x-python",
   "name": "python",
   "nbconvert_exporter": "python",
   "pygments_lexer": "ipython3",
   "version": "3.7.6"
  }
 },
 "nbformat": 4,
 "nbformat_minor": 4
}
