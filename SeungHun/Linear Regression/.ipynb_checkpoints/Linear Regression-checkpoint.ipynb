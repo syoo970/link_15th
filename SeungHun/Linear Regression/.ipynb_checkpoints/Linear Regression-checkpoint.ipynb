{
 "cells": [
  {
   "cell_type": "markdown",
   "metadata": {},
   "source": [
    "# Linear Regression(선형 회귀)이란?\n",
    "\n",
    "***\n",
    "* 머신 러닝에서 regression이라 함은 모델에 입력 값을 발생할 아웃풋을 예측하는 것이다.\n",
    "* 결과값을 예측하는 간단한 방법중 하나는 선을 하나 긋는 것이다.\n",
    "\n",
    "\n",
    "* 물론 주어진 데이터에 완벽하게 대응하는 선형 함수는 대부분의 경우에는 없다.\n",
    "* 그래서 가장 오류(실제 데이터와 예측 데이터의 차이)를 줄이는 방향의 선을 찾는 것이 우리의 목표이고 이게 선형 회귀이다.\n",
    "*****\n",
    "### 일단 아래의 코드를 보면서 실제 모습을 보도록 하자\n",
    "\n",
    "독립변수 X와 종속변수 Y를 아래와 같이 설정했다."
   ]
  },
  {
   "cell_type": "code",
   "execution_count": 1,
   "metadata": {},
   "outputs": [],
   "source": [
    "from sklearn.linear_model import LinearRegression\n",
    "import pandas as pd\n",
    "import numpy as np\n"
   ]
  },
  {
   "cell_type": "code",
   "execution_count": 2,
   "metadata": {},
   "outputs": [],
   "source": [
    "X = np.array([2, 3, 4, 5, 6])\n",
    "Y = np.array([4, 7, 6, 8, 10])"
   ]
  },
  {
   "cell_type": "markdown",
   "metadata": {},
   "source": [
    "#### 여기서 X와 Y데이터를 1, 5가 아닌 5,1의 형태로 변경"
   ]
  },
  {
   "cell_type": "code",
   "execution_count": 3,
   "metadata": {},
   "outputs": [],
   "source": [
    "trainX_value = np.array([[2, 3, 4, 5, 6]]).T\n",
    "trainY_value = np.array([[4, 7, 6, 8, 10]]).T"
   ]
  },
  {
   "cell_type": "code",
   "execution_count": 4,
   "metadata": {},
   "outputs": [
    {
     "name": "stdout",
     "output_type": "stream",
     "text": [
      "(5, 1) (5, 1) (1, 1) (1, 1)\n"
     ]
    }
   ],
   "source": [
    "trainX = pd.DataFrame(trainX_value, columns=['x'])\n",
    "trainY = pd.DataFrame(trainY_value, columns=['y'])\n",
    "testX = pd.DataFrame([[7]], columns=['x'])\n",
    "testY = pd.DataFrame([[8]], columns=['y'])\n",
    "\n",
    "print(trainX.shape, trainY.shape, testX.shape, testY.shape)"
   ]
  },
  {
   "cell_type": "code",
   "execution_count": 5,
   "metadata": {},
   "outputs": [],
   "source": [
    "lr = LinearRegression()\n",
    "lr_fit = lr.fit(trainX, trainY)\n",
    "prediction = lr_fit.predict(testX)"
   ]
  },
  {
   "cell_type": "code",
   "execution_count": 6,
   "metadata": {},
   "outputs": [
    {
     "name": "stdout",
     "output_type": "stream",
     "text": [
      "예측 값 : [[10.9]]\n",
      "기울기:  [[1.3]] y절편:  [1.8]\n"
     ]
    }
   ],
   "source": [
    "print('예측 값 :', prediction)\n",
    "print('기울기: ', lr_fit.coef_, 'y절편: ', lr_fit.intercept_)"
   ]
  },
  {
   "cell_type": "code",
   "execution_count": 7,
   "metadata": {},
   "outputs": [],
   "source": [
    "import matplotlib.pyplot as plt\n",
    "%matplotlib inline\n",
    "import seaborn as sns"
   ]
  },
  {
   "cell_type": "markdown",
   "metadata": {},
   "source": [
    "* 여기서 파란 범위는 예측 범위를 뜻하는데 이 데이터들이 실제의 모든 값이 아닌 샘플이라서 그렇다.\n",
    "* 즉, 참회귀선이 아닌 추정회귀선을 그린 것으로 그에 따른 예측 범위를 나타낸 것이다."
   ]
  },
  {
   "cell_type": "code",
   "execution_count": 8,
   "metadata": {},
   "outputs": [
    {
     "name": "stdout",
     "output_type": "stream",
     "text": [
      "[[4.4]\n",
      " [5.7]\n",
      " [7. ]\n",
      " [8.3]\n",
      " [9.6]]\n"
     ]
    },
    {
     "data": {
      "image/png": "[encoded data removed]",
      "text/plain": [
       "<Figure size 432x288 with 1 Axes>"
      ]
     },
     "metadata": {
      "needs_background": "light"
     },
     "output_type": "display_data"
    }
   ],
   "source": [
    "hey = lr_fit.predict(trainX)\n",
    "print(hey.reshape(-1, 1))\n",
    "sns.regplot(x=trainX.x, y=trainY.y)\n",
    "plt.show()"
   ]
  },
  {
   "cell_type": "markdown",
   "metadata": {},
   "source": [
    "## 수학적 분석\n",
    "\n",
    "***\n",
    "### 조건\n",
    "* 우선 단순 선형 회귀에서의 수식을 구해서 확장해나갈것이다.\n",
    "* x가 독립변수, y가 종속 변수가 된다.\n",
    "* x라는 데이터를 이용해서 우리가 원하는 직선을 y = b0 + b1x라고 가정한다.\n",
    "* 오차를 구하는 방식은 오차제곱합(SSE)를 사용한다.\n",
    "\n",
    "***\n",
    "### 수식\n",
    "1. SSE = Σ(실제 값 - 예측값)^2 = Σ(yi - b0 - b1xi)^2 \n",
    "2. 이 식을 b0와 b1에 대해서 편미분을 한다.\n",
    "3. 편미분 된 SSE를 0으로 놓고 정리를 하면 b0와 b1을 사용하는 두 개의 식이 남는다.\n",
    "4. 정리하면 끝\n",
    "\n",
    "***\n",
    "### 실제로 식을 구해보기\n",
    "위의 LinearRegression으로 만든 직선의 기울기와 절편을 구해보자\n"
   ]
  },
  {
   "cell_type": "code",
   "execution_count": 9,
   "metadata": {},
   "outputs": [
    {
     "name": "stdout",
     "output_type": "stream",
     "text": [
      "n은 독립변수 데이터의 갯수:  5 \n",
      "\n",
      "Sxy는 공분산의 행렬\n",
      " [[2.5  3.25]\n",
      " [3.25 5.  ]] \n",
      "\n",
      "Sxx는 독립변수 x의 표본분산:  2.5 \n",
      "\n",
      "b1은 기울기:  1.3 \n",
      "\n",
      "b0는 y절편:  1.7999999999999998\n"
     ]
    }
   ],
   "source": [
    "n, _ = trainX_value.shape\n",
    "print('n은 독립변수 데이터의 갯수: ', n, '\\n')\n",
    "\n",
    "train_data = np.vstack([trainX_value.T, trainY_value.T])\n",
    "Sxy = np.cov(train_data)  # 표본의 공분산 행렬이 나온다. 그 뜻은 자유도로 나눠진다는 것.\n",
    "print('Sxy는 공분산의 행렬\\n', Sxy, '\\n')\n",
    "Sxy = Sxy[0][1]\n",
    "\n",
    "Sxx = np.var(trainX_value) # 모분산이다.\n",
    "Sxx = (Sxx * n) / (n-1) # 표본의 분산으로 변환이다.\n",
    "print('Sxx는 독립변수 x의 표본분산: ', Sxx, '\\n')\n",
    "\n",
    "b1 = Sxy / Sxx\n",
    "print('b1은 기울기: ', b1, '\\n')\n",
    "\n",
    "y_mean = trainY_value.mean()\n",
    "x_mean = trainX_value.mean()\n",
    "b0 = y_mean - b1 * x_mean\n",
    "print('b0는 y절편: ', b0)"
   ]
  },
  {
   "cell_type": "code",
   "execution_count": 10,
   "metadata": {},
   "outputs": [],
   "source": [
    "train = pd.read_csv('train.csv')\n",
    "test = pd.read_csv('test.csv')"
   ]
  },
  {
   "cell_type": "code",
   "execution_count": null,
   "metadata": {},
   "outputs": [],
   "source": []
  }
 ],
 "metadata": {
  "kernelspec": {
   "display_name": "Python 3",
   "language": "python",
   "name": "python3"
  },
  "language_info": {
   "codemirror_mode": {
    "name": "ipython",
    "version": 3
   },
   "file_extension": ".py",
   "mimetype": "text/x-python",
   "name": "python",
   "nbconvert_exporter": "python",
   "pygments_lexer": "ipython3",
   "version": "3.6.9"
  }
 },
 "nbformat": 4,
 "nbformat_minor": 2
}
