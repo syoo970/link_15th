{
 "cells": [
  {
   "cell_type": "markdown",
   "metadata": {},
   "source": [
    "# Linear Regression(선형 회귀)이란?\n",
    "\n",
    "***\n",
    "* 머신 러닝에서 regression이라 함은 모델에 입력 값을 발생할 아웃풋을 예측하는 것이다.\n",
    "* 결과값을 예측하는 간단한 방법중 하나는 선을 하나 긋는 것이다.\n",
    "\n",
    "\n",
    "* 물론 주어진 데이터에 완벽하게 대응하는 선형 함수는 대부분의 경우에는 없다.\n",
    "* 그래서 가장 오류(실제 데이터와 예측 데이터의 차이)를 줄이는 방향의 선을 찾는 것이 우리의 목표이고 이게 선형 회귀이다.\n",
    "*****\n",
    "### 일단 아래의 코드를 보면서 실제 모습을 보도록 하자\n",
    "\n",
    "독립변수 X와 종속변수 Y를 아래와 같이 설정했다."
   ]
  },
  {
   "cell_type": "code",
   "execution_count": 43,
   "metadata": {},
   "outputs": [],
   "source": [
    "from sklearn.linear_model import LinearRegression\n",
    "import pandas as pd\n",
    "import numpy as np\n"
   ]
  },
  {
   "cell_type": "code",
   "execution_count": 44,
   "metadata": {},
   "outputs": [],
   "source": [
    "X = np.array([2, 3, 4, 5, 6])\n",
    "Y = np.array([4, 7, 6, 8, 10])"
   ]
  },
  {
   "cell_type": "markdown",
   "metadata": {},
   "source": [
    "#### 여기서 X와 Y데이터를 1, 5가 아닌 5,1의 형태로 변경"
   ]
  },
  {
   "cell_type": "code",
   "execution_count": 45,
   "metadata": {},
   "outputs": [],
   "source": [
    "trainX_value = np.array([[2, 3, 4, 5, 6]]).T\n",
    "trainY_value = np.array([[4, 7, 6, 8, 10]]).T"
   ]
  },
  {
   "cell_type": "code",
   "execution_count": 46,
   "metadata": {},
   "outputs": [
    {
     "name": "stdout",
     "output_type": "stream",
     "text": [
      "(5, 1) (5, 1) (1, 1) (1, 1)\n"
     ]
    }
   ],
   "source": [
    "trainX = pd.DataFrame(trainX_value, columns=['x'])\n",
    "trainY = pd.DataFrame(trainY_value, columns=['y'])\n",
    "testX = pd.DataFrame([[7]], columns=['x'])\n",
    "testY = pd.DataFrame([[8]], columns=['y'])\n",
    "\n",
    "print(trainX.shape, trainY.shape, testX.shape, testY.shape)"
   ]
  },
  {
   "cell_type": "code",
   "execution_count": 47,
   "metadata": {},
   "outputs": [],
   "source": [
    "lr = LinearRegression()\n",
    "lr_fit = lr.fit(trainX, trainY)\n",
    "prediction = lr_fit.predict(testX)"
   ]
  },
  {
   "cell_type": "code",
   "execution_count": 48,
   "metadata": {},
   "outputs": [
    {
     "name": "stdout",
     "output_type": "stream",
     "text": [
      "예측 값 : [[10.9]]\n",
      "기울기:  [[1.3]] y절편:  [1.8]\n"
     ]
    }
   ],
   "source": [
    "print('예측 값 :', prediction)\n",
    "print('기울기: ', lr_fit.coef_, 'y절편: ', lr_fit.intercept_)"
   ]
  },
  {
   "cell_type": "code",
   "execution_count": 49,
   "metadata": {},
   "outputs": [],
   "source": [
    "import matplotlib.pyplot as plt\n",
    "%matplotlib inline\n",
    "import seaborn as sns"
   ]
  },
  {
   "cell_type": "markdown",
   "metadata": {},
   "source": [
    "* 여기서 파란 범위는 예측 범위를 뜻하는데 이 데이터들이 실제의 모든 값이 아닌 샘플이라서 그렇다.\n",
    "* 즉, 참회귀선이 아닌 추정회귀선을 그린 것으로 그에 따른 예측 범위를 나타낸 것이다."
   ]
  },
  {
   "cell_type": "code",
   "execution_count": 50,
   "metadata": {},
   "outputs": [
    {
     "data": {
      "image/png": "[encoded data removed]",
      "text/plain": [
       "<Figure size 432x288 with 1 Axes>"
      ]
     },
     "metadata": {
      "needs_background": "light"
     },
     "output_type": "display_data"
    }
   ],
   "source": [
    "sns.regplot(x=trainX.x, y=trainY.y)\n",
    "plt.show()"
   ]
  },
  {
   "cell_type": "markdown",
   "metadata": {},
   "source": [
    "## 수학적 분석\n",
    "\n",
    "***\n",
    "### 조건\n",
    "* 우선 단순 선형 회귀에서의 수식을 구해서 확장해나갈것이다.\n",
    "* x가 독립변수, y가 종속 변수가 된다.\n",
    "* x라는 데이터를 이용해서 우리가 원하는 직선을 y = b0 + b1x라고 가정한다.\n",
    "* 오차를 구하는 방식은 오차제곱합(SSE)를 사용한다.\n",
    "\n",
    "***\n",
    "### 수식\n",
    "1. SSE = Σ(실제 값 - 예측값)^2 = Σ(yi - b0 - b1xi)^2 \n",
    "2. 이 식을 b0와 b1에 대해서 편미분을 한다.\n",
    "3. 편미분 된 SSE를 0으로 놓고 정리를 하면 b0와 b1을 사용하는 두 개의 식이 남는다.\n",
    "4. 정리하면 끝\n",
    "\n",
    "***\n",
    "### 실제로 식을 구해보기\n",
    "위의 LinearRegression으로 만든 직선의 기울기와 절편을 구해보자\n"
   ]
  },
  {
   "cell_type": "code",
   "execution_count": 9,
   "metadata": {},
   "outputs": [
    {
     "name": "stdout",
     "output_type": "stream",
     "text": [
      "n은 독립변수 데이터의 갯수:  5 \n",
      "\n",
      "Sxy는 공분산의 행렬\n",
      " [[2.5  3.25]\n",
      " [3.25 5.  ]] \n",
      "\n",
      "Sxx는 독립변수 x의 표본분산:  2.5 \n",
      "\n",
      "b1은 기울기:  1.3 \n",
      "\n",
      "b0는 y절편:  1.7999999999999998\n"
     ]
    }
   ],
   "source": [
    "n, _ = trainX_value.shape\n",
    "print('n은 독립변수 데이터의 갯수: ', n, '\\n')\n",
    "\n",
    "train_data = np.vstack([trainX_value.T, trainY_value.T])\n",
    "Sxy = np.cov(train_data)  # 표본의 공분산 행렬이 나온다. 그 뜻은 자유도로 나눠진다는 것.\n",
    "print('Sxy는 공분산의 행렬\\n', Sxy, '\\n')\n",
    "Sxy = Sxy[0][1]\n",
    "\n",
    "Sxx = np.var(trainX_value) # 모분산이다.\n",
    "Sxx = (Sxx * n) / (n-1) # 표본의 분산으로 변환이다.\n",
    "print('Sxx는 독립변수 x의 표본분산: ', Sxx, '\\n')\n",
    "\n",
    "b1 = Sxy / Sxx\n",
    "print('b1은 기울기: ', b1, '\\n')\n",
    "\n",
    "y_mean = trainY_value.mean()\n",
    "x_mean = trainX_value.mean()\n",
    "b0 = y_mean - b1 * x_mean\n",
    "print('b0는 y절편: ', b0)"
   ]
  },
  {
   "cell_type": "markdown",
   "metadata": {},
   "source": [
    "\n",
    "***\n",
    "## 다중선형회귀 (multi linear regression)\n",
    "그러면 실제로 다양한 변수를 갖는 다중선형회귀를 살펴봅니다.\n",
    "* 식은 y = b0 + b1* x1 + b2 * x2 + b3* x3 + ...(계수의 수는 특징의 수)\n",
    "* 가져온 데이터는 집값을 예측하기 위해서 여러 특징들이 있는 데이터\n",
    "* 예측 데이터는 mse와 r2로 측정함."
   ]
  },
  {
   "cell_type": "code",
   "execution_count": 153,
   "metadata": {
    "scrolled": true
   },
   "outputs": [
    {
     "data": {
      "text/html": [
       "<div>\n",
       "<style scoped>\n",
       "    .dataframe tbody tr th:only-of-type {\n",
       "        vertical-align: middle;\n",
       "    }\n",
       "\n",
       "    .dataframe tbody tr th {\n",
       "        vertical-align: top;\n",
       "    }\n",
       "\n",
       "    .dataframe thead th {\n",
       "        text-align: right;\n",
       "    }\n",
       "</style>\n",
       "<table border=\"1\" class=\"dataframe\">\n",
       "  <thead>\n",
       "    <tr style=\"text-align: right;\">\n",
       "      <th></th>\n",
       "      <th>MSSubClass</th>\n",
       "      <th>MSZoning</th>\n",
       "      <th>LotArea</th>\n",
       "      <th>Street</th>\n",
       "      <th>LotShape</th>\n",
       "      <th>LandContour</th>\n",
       "      <th>Utilities</th>\n",
       "      <th>LotConfig</th>\n",
       "      <th>LandSlope</th>\n",
       "      <th>Neighborhood</th>\n",
       "      <th>...</th>\n",
       "      <th>OpenPorchSF</th>\n",
       "      <th>EnclosedPorch</th>\n",
       "      <th>3SsnPorch</th>\n",
       "      <th>ScreenPorch</th>\n",
       "      <th>PoolArea</th>\n",
       "      <th>MiscVal</th>\n",
       "      <th>MoSold</th>\n",
       "      <th>YrSold</th>\n",
       "      <th>SaleType</th>\n",
       "      <th>SaleCondition</th>\n",
       "    </tr>\n",
       "  </thead>\n",
       "  <tbody>\n",
       "    <tr>\n",
       "      <td>0</td>\n",
       "      <td>60</td>\n",
       "      <td>3</td>\n",
       "      <td>8450</td>\n",
       "      <td>1</td>\n",
       "      <td>3</td>\n",
       "      <td>3</td>\n",
       "      <td>0</td>\n",
       "      <td>4</td>\n",
       "      <td>0</td>\n",
       "      <td>5</td>\n",
       "      <td>...</td>\n",
       "      <td>61</td>\n",
       "      <td>0</td>\n",
       "      <td>0</td>\n",
       "      <td>0</td>\n",
       "      <td>0</td>\n",
       "      <td>0</td>\n",
       "      <td>2</td>\n",
       "      <td>2008</td>\n",
       "      <td>8</td>\n",
       "      <td>4</td>\n",
       "    </tr>\n",
       "    <tr>\n",
       "      <td>1</td>\n",
       "      <td>20</td>\n",
       "      <td>3</td>\n",
       "      <td>9600</td>\n",
       "      <td>1</td>\n",
       "      <td>3</td>\n",
       "      <td>3</td>\n",
       "      <td>0</td>\n",
       "      <td>2</td>\n",
       "      <td>0</td>\n",
       "      <td>24</td>\n",
       "      <td>...</td>\n",
       "      <td>0</td>\n",
       "      <td>0</td>\n",
       "      <td>0</td>\n",
       "      <td>0</td>\n",
       "      <td>0</td>\n",
       "      <td>0</td>\n",
       "      <td>5</td>\n",
       "      <td>2007</td>\n",
       "      <td>8</td>\n",
       "      <td>4</td>\n",
       "    </tr>\n",
       "    <tr>\n",
       "      <td>2</td>\n",
       "      <td>60</td>\n",
       "      <td>3</td>\n",
       "      <td>11250</td>\n",
       "      <td>1</td>\n",
       "      <td>0</td>\n",
       "      <td>3</td>\n",
       "      <td>0</td>\n",
       "      <td>4</td>\n",
       "      <td>0</td>\n",
       "      <td>5</td>\n",
       "      <td>...</td>\n",
       "      <td>42</td>\n",
       "      <td>0</td>\n",
       "      <td>0</td>\n",
       "      <td>0</td>\n",
       "      <td>0</td>\n",
       "      <td>0</td>\n",
       "      <td>9</td>\n",
       "      <td>2008</td>\n",
       "      <td>8</td>\n",
       "      <td>4</td>\n",
       "    </tr>\n",
       "    <tr>\n",
       "      <td>3</td>\n",
       "      <td>70</td>\n",
       "      <td>3</td>\n",
       "      <td>9550</td>\n",
       "      <td>1</td>\n",
       "      <td>0</td>\n",
       "      <td>3</td>\n",
       "      <td>0</td>\n",
       "      <td>0</td>\n",
       "      <td>0</td>\n",
       "      <td>6</td>\n",
       "      <td>...</td>\n",
       "      <td>35</td>\n",
       "      <td>272</td>\n",
       "      <td>0</td>\n",
       "      <td>0</td>\n",
       "      <td>0</td>\n",
       "      <td>0</td>\n",
       "      <td>2</td>\n",
       "      <td>2006</td>\n",
       "      <td>8</td>\n",
       "      <td>0</td>\n",
       "    </tr>\n",
       "    <tr>\n",
       "      <td>4</td>\n",
       "      <td>60</td>\n",
       "      <td>3</td>\n",
       "      <td>14260</td>\n",
       "      <td>1</td>\n",
       "      <td>0</td>\n",
       "      <td>3</td>\n",
       "      <td>0</td>\n",
       "      <td>2</td>\n",
       "      <td>0</td>\n",
       "      <td>15</td>\n",
       "      <td>...</td>\n",
       "      <td>84</td>\n",
       "      <td>0</td>\n",
       "      <td>0</td>\n",
       "      <td>0</td>\n",
       "      <td>0</td>\n",
       "      <td>0</td>\n",
       "      <td>12</td>\n",
       "      <td>2008</td>\n",
       "      <td>8</td>\n",
       "      <td>4</td>\n",
       "    </tr>\n",
       "  </tbody>\n",
       "</table>\n",
       "<p>5 rows × 61 columns</p>\n",
       "</div>"
      ],
      "text/plain": [
       "   MSSubClass  MSZoning  LotArea  Street  LotShape  LandContour  Utilities  \\\n",
       "0          60         3     8450       1         3            3          0   \n",
       "1          20         3     9600       1         3            3          0   \n",
       "2          60         3    11250       1         0            3          0   \n",
       "3          70         3     9550       1         0            3          0   \n",
       "4          60         3    14260       1         0            3          0   \n",
       "\n",
       "   LotConfig  LandSlope  Neighborhood  ...  OpenPorchSF  EnclosedPorch  \\\n",
       "0          4          0             5  ...           61              0   \n",
       "1          2          0            24  ...            0              0   \n",
       "2          4          0             5  ...           42              0   \n",
       "3          0          0             6  ...           35            272   \n",
       "4          2          0            15  ...           84              0   \n",
       "\n",
       "   3SsnPorch  ScreenPorch  PoolArea  MiscVal  MoSold  YrSold  SaleType  \\\n",
       "0          0            0         0        0       2    2008         8   \n",
       "1          0            0         0        0       5    2007         8   \n",
       "2          0            0         0        0       9    2008         8   \n",
       "3          0            0         0        0       2    2006         8   \n",
       "4          0            0         0        0      12    2008         8   \n",
       "\n",
       "   SaleCondition  \n",
       "0              4  \n",
       "1              4  \n",
       "2              4  \n",
       "3              0  \n",
       "4              4  \n",
       "\n",
       "[5 rows x 61 columns]"
      ]
     },
     "execution_count": 153,
     "metadata": {},
     "output_type": "execute_result"
    }
   ],
   "source": [
    "from sklearn.model_selection import train_test_split\n",
    "from sklearn.metrics import r2_score, mean_squared_error\n",
    "\n",
    "train = pd.read_csv('train.csv')\n",
    "\n",
    "trainY = train['SalePrice']\n",
    "trainX = train.drop(['SalePrice', 'Id', 'Unnamed: 0'], axis=1)\n",
    "\n",
    "trainX.head()"
   ]
  },
  {
   "cell_type": "code",
   "execution_count": 154,
   "metadata": {},
   "outputs": [
    {
     "name": "stdout",
     "output_type": "stream",
     "text": [
      "trainX, trainY의 크기: (1457, 61) (1457,)\n",
      "trainX의 numeric type: 61\n",
      "trainX의 가장 큰 null의 개수: 0\n"
     ]
    }
   ],
   "source": [
    "print('trainX, trainY의 크기:', trainX.shape, trainY.shape)\n",
    "\n",
    "num_columns = [a for a in trainX.columns if trainX[a].dtypes != object]\n",
    "print('trainX의 numeric type:', len(num_columns))\n",
    "print('trainX의 가장 큰 null의 개수:', trainX.isnull().sum().max())"
   ]
  },
  {
   "cell_type": "code",
   "execution_count": 155,
   "metadata": {},
   "outputs": [
    {
     "name": "stdout",
     "output_type": "stream",
     "text": [
      "(976, 61) (481, 61) (976,) (481,)\n"
     ]
    }
   ],
   "source": [
    "X_train, X_test, y_train, y_test = train_test_split(trainX, trainY, test_size=0.33, random_state=1)\n",
    "print(X_train.shape, X_test.shape, y_train.shape, y_test.shape)\n",
    "\n",
    "lr = LinearRegression()\n",
    "lr.fit(X_train, y_train)\n",
    "prediction = lr.predict(X_test)"
   ]
  },
  {
   "cell_type": "code",
   "execution_count": 156,
   "metadata": {},
   "outputs": [],
   "source": [
    "mse = mean_squared_error(prediction, y_test)\n",
    "r2 = r2_score(prediction, y_test)"
   ]
  },
  {
   "cell_type": "markdown",
   "metadata": {},
   "source": [
    "## mse\n",
    "* 정답에 대한 오류를 나타내는 손실함수로 오답에 가까울수록 큰 값이 나온다.\n",
    "* 평균 제공 오차로 (1/n) * Σ(예측값 - 실제값)^2 이다.\n",
    "* 상대적인 오차표현 방식으로 값의 범위(크기)에 따라서 다르게 생각해야한다.\n",
    "\n",
    "\n",
    "## R2 (결정계수)\n",
    "* 회귀모형의 설명력을 표현할때 사용한다.\n",
    "* r2 = SSR / SST = 1 - SSE / SST이다.\n",
    "\n",
    "\n",
    "* SST(Sum of Square Total)\n",
    "  * 편차의 제곱합이다. \n",
    "  *   Σ(실제값 - 실제값의 평균)^2\n",
    "\n",
    "\n",
    "* SSE(Sum of Square Error)\n",
    "  * 회귀식과 실제값의 차이 \n",
    "  * Σ(예측값 - 실제값)^2\n",
    "\n",
    " \n",
    "* SSR(Sum of Square Regression)\n",
    "  * 회귀식과 평균값의 차이 \n",
    "  * Σ(예측값 - 실제값의 평균)^2\n"
   ]
  },
  {
   "cell_type": "code",
   "execution_count": 159,
   "metadata": {},
   "outputs": [
    {
     "name": "stdout",
     "output_type": "stream",
     "text": [
      "mse: 0.018039484938215097\n",
      "r2: 0.8772110127663418\n"
     ]
    }
   ],
   "source": [
    "print('mse:', mse)\n",
    "print('r2:', r2)"
   ]
  },
  {
   "cell_type": "code",
   "execution_count": 160,
   "metadata": {},
   "outputs": [
    {
     "name": "stdout",
     "output_type": "stream",
     "text": [
      "[-3.44970981e-05 -2.32785438e-02  2.46548629e-06  3.23877199e-01\n",
      " -7.16647042e-03 -5.43369032e-03 -1.08819736e-01 -2.87657880e-03\n",
      "  5.42414399e-03 -1.08022698e-03  5.36780287e-03 -1.66142375e-02\n",
      " -9.81473358e-03  4.82702162e-04  6.42836227e-02  4.08697510e-02\n",
      "  1.79110513e-03  4.97026765e-04  1.71894114e-03 -4.11217722e-03\n",
      " -5.00058390e-03  4.34942856e-03 -8.58467610e-03  1.17473980e-02\n",
      "  1.11123924e-02  7.02476763e-05  4.92319740e-05 -1.75726662e-05\n",
      "  1.01906984e-04 -8.53740977e-03 -1.12536377e-02  6.79102606e-02\n",
      "  3.09684401e-03  1.36927873e-04  8.08693836e-05 -6.79527412e-05\n",
      "  1.49844515e-04  2.05751828e-02 -7.92073748e-03  1.25968365e-02\n",
      "  3.42880619e-03 -1.26801574e-02 -6.77991420e-02 -1.89781938e-02\n",
      "  1.01378353e-02  2.14937836e-02  2.42105499e-02  5.25135342e-02\n",
      "  4.34079909e-05  1.32432313e-02  9.34286267e-05  1.56812039e-04\n",
      "  1.38665027e-04  1.58624655e-05  3.40353301e-04  2.19190343e-04\n",
      " -3.81344369e-07 -1.60040290e-03 -5.29293129e-03 -1.60035713e-03\n",
      "  3.06372228e-02]\n",
      "61\n",
      "16.350630428897908\n"
     ]
    }
   ],
   "source": [
    "print(lr.coef_)\n",
    "print(len(lr.coef_))\n",
    "print(lr.intercept_)"
   ]
  },
  {
   "cell_type": "code",
   "execution_count": null,
   "metadata": {},
   "outputs": [],
   "source": []
  }
 ],
 "metadata": {
  "kernelspec": {
   "display_name": "Python 3",
   "language": "python",
   "name": "python3"
  },
  "language_info": {
   "codemirror_mode": {
    "name": "ipython",
    "version": 3
   },
   "file_extension": ".py",
   "mimetype": "text/x-python",
   "name": "python",
   "nbconvert_exporter": "python",
   "pygments_lexer": "ipython3",
   "version": "3.6.9"
  }
 },
 "nbformat": 4,
 "nbformat_minor": 2
}
